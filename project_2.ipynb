{
 "cells": [
  {
   "cell_type": "markdown",
   "metadata": {},
   "source": [
    "# **Programming for Data Analysis**\n",
    "---\n",
    "\n",
    "**Author: Damien Farrell**\n",
    "\n",
    "---"
   ]
  },
  {
   "cell_type": "markdown",
   "metadata": {},
   "source": [
    "## **Project 2:**\n",
    "## **An Analysis of Paleo-Present Climate Data**"
   ]
  },
  {
   "cell_type": "code",
   "execution_count": 1,
   "metadata": {},
   "outputs": [
    {
     "data": {
      "text/html": [
       "\n",
       "                <script type=\"application/javascript\" id=\"jupyter_black\">\n",
       "                (function() {\n",
       "                    if (window.IPython === undefined) {\n",
       "                        return\n",
       "                    }\n",
       "                    var msg = \"WARNING: it looks like you might have loaded \" +\n",
       "                        \"jupyter_black in a non-lab notebook with \" +\n",
       "                        \"`is_lab=True`. Please double check, and if \" +\n",
       "                        \"loading with `%load_ext` please review the README!\"\n",
       "                    console.log(msg)\n",
       "                    alert(msg)\n",
       "                })()\n",
       "                </script>\n",
       "                "
      ],
      "text/plain": [
       "<IPython.core.display.HTML object>"
      ]
     },
     "metadata": {},
     "output_type": "display_data"
    }
   ],
   "source": [
    "import pandas as pd\n",
    "import numpy as np\n",
    "import matplotlib.pyplot as plt\n",
    "import seaborn as sns\n",
    "import re\n",
    "import requests\n",
    "\n",
    "import jupyter_black\n",
    "\n",
    "jupyter_black.load()\n",
    "sns.set_theme()"
   ]
  },
  {
   "cell_type": "markdown",
   "metadata": {},
   "source": [
    "### **Data Set Components**\n",
    "\n",
    "1. **Temperature Estimate:**\n",
    "   - Temperature difference anomaly from the average temperature of the last 1000 years over the past 800,000 years.\n",
    "   - Temperature estimated from the analysis of deuterium in the ice cores, with various corrections.\n",
    "     <br>\n",
    "     <br>\n",
    "\n",
    "1. **Composite Carbon Dioxide Record:**\n",
    "   - Composite record of atmospheric carbon dioxide (CO2) levels over the past 800,000 years.\n",
    "   - Antarctic ice-core records of carbon dioxide extend back 800,000 years at Dome C and over 400,000 years at the Vostok site. Additional shorter recordS from Taylor Dome, another Antarctic location.\n",
    "     <br>\n",
    "     <br>\n",
    "\n",
    "1. **Methane Record (EPICA Dome C Ice Core):**\n",
    "   - Detailed methane record to 800,000 years before AD 1950.\n",
    "     <br>\n",
    "     <br>\n",
    "\n",
    "1. **Dublin Airport Hourly Data:**\n",
    "   - Detailed weather data from Dublin airport.\n",
    "     <br>\n",
    "     <br>\n",
    "\n",
    "\n",
    "\n",
    "Composite Rainfall Time Series from 1711-2016 for Ireland\n",
    "https://www.met.ie/climate/available-data/long-term-data-sets/\n",
    "\n",
    "IOI_1711_SERIES \n",
    "\n",
    "Reconstruction of a long-term historical daily maximum and minimum air temperature network dataset for Ireland (1831-1968)\n",
    "https://www.met.ie/climate/available-data/long-term-data-sets/\n",
    "\n",
    "Valentia-Observatory-telegraphic-reporting-station_1921-1943\n",
    "Valentia-Observatory-telegraphic-reporting-station_1850-1920\n",
    "Valentia-Observatory_second-order-station_1883-1909\n",
    "\n",
    "\n",
    "Observatory Monthly Data\n",
    "https://data.gov.ie/dataset/valentia-observatory-monthly-data\n",
    "mly2275\n",
    "\n",
    "\n",
    "\n"
   ]
  },
  {
   "cell_type": "markdown",
   "metadata": {},
   "source": [
    "### **Antarctic Datasets**"
   ]
  },
  {
   "cell_type": "code",
   "execution_count": 2,
   "metadata": {},
   "outputs": [],
   "source": [
    "present_year = 1950"
   ]
  },
  {
   "cell_type": "code",
   "execution_count": null,
   "metadata": {},
   "outputs": [],
   "source": []
  },
  {
   "cell_type": "markdown",
   "metadata": {},
   "source": [
    "Extract temperature data from NOAA EDC3 2007 and convert into a DataFrame"
   ]
  },
  {
   "cell_type": "code",
   "execution_count": 3,
   "metadata": {},
   "outputs": [],
   "source": [
    "url = \"https://www.ncei.noaa.gov/pub/data/paleo/icecore/antarctica/epica_domec/edc3deuttemp2007.txt\"\n",
    "response = requests.get(url)  # Generate response object\n",
    "text = response.text  # Return the HTML of webpage as string\n",
    "data = text\n",
    "\n",
    "# The pattern to find the start of the table\n",
    "pattern = re.compile(r\"Bag\\s+ztop\\s+Age\\s+Deuterium\\s+Temperature\", re.IGNORECASE)\n",
    "\n",
    "# Extract the data starting from the match\n",
    "match = pattern.search(data)\n",
    "start_index = match.start()\n",
    "table_data = data[start_index:]\n",
    "\n",
    "# Convert the table_data to a list of lines\n",
    "table_lines = table_data.strip().split(\"\\n\")\n",
    "\n",
    "# Extract column names and data\n",
    "columns = table_lines[0].split()\n",
    "rows = [line.split() for line in table_lines[1:]]\n",
    "\n",
    "# Create a Antarctic Temperature DataFrame\n",
    "antarctic_temp_df = pd.DataFrame(rows, columns=columns)\n",
    "numeric_columns = [\"Bag\", \"ztop\", \"Age\", \"Deuterium\", \"Temperature\"]\n",
    "antarctic_temp_df[numeric_columns] = antarctic_temp_df[numeric_columns].apply(\n",
    "    pd.to_numeric, errors=\"coerce\"\n",
    ")\n",
    "\n",
    "# Transforming the Antarctic Temperature DataFrame\n",
    "antarctic_temp_df = antarctic_temp_df.dropna().reset_index(drop=True)\n",
    "antarctic_temp_df.drop([\"Bag\", \"ztop\", \"Deuterium\"], axis=1, inplace=True)\n",
    "antarctic_temp_df[\"year\"] = present_year - antarctic_temp_df[\"Age\"].astype(int)\n",
    "antarctic_temp_df.drop([\"Age\"], axis=1, inplace=True)\n",
    "antarctic_temp_df.set_index(\"year\", inplace=True)\n",
    "antarctic_temp_df.rename(columns={\"Temperature\": \"temp\"}, inplace=True)\n",
    "\n",
    "# Assuming 'year' is already in integer format in your DataFrame\n",
    "# span = pd.period_range(start=antarctic_temp_df.index.min(), end=antarctic_temp_df.index.max(), freq=\"Y\")\n",
    "\n",
    "# Set the index to the period range\n",
    "# antarctic_temp_df.index = span\n",
    "\n",
    "# span = pd.period_range(\"1215-01-01\", \"1381-01-01\", freq=\"Y\")"
   ]
  },
  {
   "cell_type": "code",
   "execution_count": 4,
   "metadata": {},
   "outputs": [
    {
     "data": {
      "text/plain": [
       "<Axes: xlabel='year'>"
      ]
     },
     "execution_count": 4,
     "metadata": {},
     "output_type": "execute_result"
    },
    {
     "data": {
      "image/png": "[encoded data removed]",
      "text/plain": [
       "<Figure size 640x480 with 1 Axes>"
      ]
     },
     "metadata": {},
     "output_type": "display_data"
    }
   ],
   "source": [
    "antarctic_temp_df.plot()"
   ]
  },
  {
   "cell_type": "code",
   "execution_count": 5,
   "metadata": {},
   "outputs": [
    {
     "data": {
      "text/plain": [
       "Int64Index([   1912,    1904,    1895,    1886,    1877,    1869,    1860,\n",
       "               1851,    1841,    1831,\n",
       "            ...\n",
       "            -791129, -791926, -792758, -793606, -794499, -795458, -796493,\n",
       "            -797551, -798639, -799712],\n",
       "           dtype='int64', name='year', length=5785)"
      ]
     },
     "execution_count": 5,
     "metadata": {},
     "output_type": "execute_result"
    }
   ],
   "source": [
    "antarctic_temp_df.index"
   ]
  },
  {
   "cell_type": "code",
   "execution_count": null,
   "metadata": {},
   "outputs": [],
   "source": []
  },
  {
   "cell_type": "code",
   "execution_count": 7,
   "metadata": {},
   "outputs": [
    {
     "data": {
      "text/plain": [
       "Index(['1912', '1904', '1895', '1886', '1877', '1869', '1860', '1851', '1841',\n",
       "       '1831',\n",
       "       ...\n",
       "       '-791129', '-791926', '-792758', '-793606', '-794499', '-795458',\n",
       "       '-796493', '-797551', '-798639', '-799712'],\n",
       "      dtype='object', name='year', length=5785)"
      ]
     },
     "execution_count": 7,
     "metadata": {},
     "output_type": "execute_result"
    }
   ],
   "source": [
    "antarctic_temp_df.index"
   ]
  },
  {
   "cell_type": "code",
   "execution_count": 8,
   "metadata": {},
   "outputs": [
    {
     "data": {
      "text/plain": [
       "Index([None, None, None, None, None, None, None, None, None, None,\n",
       "       ...\n",
       "       None, None, None, None, None, None, None, None, None, None],\n",
       "      dtype='object', name='year', length=5785)"
      ]
     },
     "execution_count": 8,
     "metadata": {},
     "output_type": "execute_result"
    }
   ],
   "source": [
    "antarctic_temp_df.index.map(convert)"
   ]
  },
  {
   "cell_type": "code",
   "execution_count": 9,
   "metadata": {},
   "outputs": [
    {
     "data": {
      "text/plain": [
       "Index(['1912', '1904', '1895', '1886', '1877', '1869', '1860', '1851', '1841',\n",
       "       '1831',\n",
       "       ...\n",
       "       '-791129', '-791926', '-792758', '-793606', '-794499', '-795458',\n",
       "       '-796493', '-797551', '-798639', '-799712'],\n",
       "      dtype='object', name='year', length=5785)"
      ]
     },
     "execution_count": 9,
     "metadata": {},
     "output_type": "execute_result"
    }
   ],
   "source": [
    "antarctic_temp_df.index"
   ]
  },
  {
   "cell_type": "code",
   "execution_count": 10,
   "metadata": {},
   "outputs": [],
   "source": [
    "antarctic_temp_df.index = antarctic_temp_df.index.map(convert)"
   ]
  },
  {
   "cell_type": "code",
   "execution_count": 11,
   "metadata": {},
   "outputs": [
    {
     "data": {
      "text/plain": [
       "Index([None, None, None, None, None, None, None, None, None, None,\n",
       "       ...\n",
       "       None, None, None, None, None, None, None, None, None, None],\n",
       "      dtype='object', name='year', length=5785)"
      ]
     },
     "execution_count": 11,
     "metadata": {},
     "output_type": "execute_result"
    }
   ],
   "source": [
    "antarctic_temp_df.index"
   ]
  },
  {
   "cell_type": "code",
   "execution_count": null,
   "metadata": {},
   "outputs": [],
   "source": []
  },
  {
   "cell_type": "code",
   "execution_count": 12,
   "metadata": {},
   "outputs": [],
   "source": [
    "antarctic_carbon_dioxide_df = pd.read_excel(\n",
    "    \"./data/CO2/grl52461-sup-0003-supplementary.xls\",\n",
    "    sheet_name=\"CO2 Composite\",\n",
    "    skiprows=14,\n",
    ")\n",
    "\n",
    "# Transforming the Antarctic CO2 DataFrame\n",
    "antarctic_carbon_dioxide_df.drop([\"sigma mean CO2 (ppmv)\"], axis=1, inplace=True)\n",
    "antarctic_carbon_dioxide_df[\"year\"] = present_year - antarctic_carbon_dioxide_df[\n",
    "    \"Gasage (yr BP) \"\n",
    "].astype(int)\n",
    "antarctic_carbon_dioxide_df.rename(columns={\"CO2 (ppmv)\": \"CO2\"}, inplace=True)\n",
    "antarctic_carbon_dioxide_df.drop([\"Gasage (yr BP) \"], axis=1, inplace=True)\n",
    "antarctic_carbon_dioxide_df.set_index(\"year\", inplace=True)"
   ]
  },
  {
   "cell_type": "code",
   "execution_count": 13,
   "metadata": {},
   "outputs": [
    {
     "data": {
      "text/html": [
       "<div>\n",
       "<style scoped>\n",
       "    .dataframe tbody tr th:only-of-type {\n",
       "        vertical-align: middle;\n",
       "    }\n",
       "\n",
       "    .dataframe tbody tr th {\n",
       "        vertical-align: top;\n",
       "    }\n",
       "\n",
       "    .dataframe thead th {\n",
       "        text-align: right;\n",
       "    }\n",
       "</style>\n",
       "<table border=\"1\" class=\"dataframe\">\n",
       "  <thead>\n",
       "    <tr style=\"text-align: right;\">\n",
       "      <th></th>\n",
       "      <th>CO2</th>\n",
       "    </tr>\n",
       "    <tr>\n",
       "      <th>year</th>\n",
       "      <th></th>\n",
       "    </tr>\n",
       "  </thead>\n",
       "  <tbody>\n",
       "    <tr>\n",
       "      <th>2001</th>\n",
       "      <td>368.022488</td>\n",
       "    </tr>\n",
       "    <tr>\n",
       "      <th>1998</th>\n",
       "      <td>361.780737</td>\n",
       "    </tr>\n",
       "    <tr>\n",
       "      <th>1996</th>\n",
       "      <td>359.647793</td>\n",
       "    </tr>\n",
       "    <tr>\n",
       "      <th>1994</th>\n",
       "      <td>357.106740</td>\n",
       "    </tr>\n",
       "    <tr>\n",
       "      <th>1993</th>\n",
       "      <td>353.946685</td>\n",
       "    </tr>\n",
       "    <tr>\n",
       "      <th>...</th>\n",
       "      <td>...</td>\n",
       "    </tr>\n",
       "    <tr>\n",
       "      <th>-801975</th>\n",
       "      <td>202.921723</td>\n",
       "    </tr>\n",
       "    <tr>\n",
       "      <th>-802059</th>\n",
       "      <td>207.498645</td>\n",
       "    </tr>\n",
       "    <tr>\n",
       "      <th>-802572</th>\n",
       "      <td>204.861938</td>\n",
       "    </tr>\n",
       "    <tr>\n",
       "      <th>-803182</th>\n",
       "      <td>202.226839</td>\n",
       "    </tr>\n",
       "    <tr>\n",
       "      <th>-803718</th>\n",
       "      <td>207.285440</td>\n",
       "    </tr>\n",
       "  </tbody>\n",
       "</table>\n",
       "<p>1901 rows × 1 columns</p>\n",
       "</div>"
      ],
      "text/plain": [
       "                CO2\n",
       "year               \n",
       " 2001    368.022488\n",
       " 1998    361.780737\n",
       " 1996    359.647793\n",
       " 1994    357.106740\n",
       " 1993    353.946685\n",
       "...             ...\n",
       "-801975  202.921723\n",
       "-802059  207.498645\n",
       "-802572  204.861938\n",
       "-803182  202.226839\n",
       "-803718  207.285440\n",
       "\n",
       "[1901 rows x 1 columns]"
      ]
     },
     "execution_count": 13,
     "metadata": {},
     "output_type": "execute_result"
    }
   ],
   "source": [
    "antarctic_carbon_dioxide_df"
   ]
  },
  {
   "cell_type": "code",
   "execution_count": 14,
   "metadata": {},
   "outputs": [],
   "source": [
    "antarctic_methane_df = pd.read_csv(\n",
    "    \"./data/CH4/Nehrbass-Ahles-etal_2020_CH4_comp.tab\", skiprows=22, sep=\"\\t\"\n",
    ")\n",
    "\n",
    "# Transforming the Antarctic CO2 DataFrame\n",
    "antarctic_methane_df.drop(\n",
    "    [\"Depth ice/snow [m] (average depth)\", \"Uncertainty [±]\", \"CH4 [ppbv]\"],\n",
    "    axis=1,\n",
    "    inplace=True,\n",
    ")\n",
    "antarctic_methane_df[\"year\"] = present_year - antarctic_methane_df[\n",
    "    \"Age [ka BP]\"\n",
    "].astype(int)\n",
    "antarctic_methane_df.rename(\n",
    "    columns={\"CH4 [ppbv] (corrected for gravitational s...)\": \"CH4\"}, inplace=True\n",
    ")\n",
    "antarctic_methane_df.drop([\"Age [ka BP]\"], axis=1, inplace=True)\n",
    "antarctic_methane_df.set_index(\"year\", inplace=True)"
   ]
  },
  {
   "cell_type": "code",
   "execution_count": 15,
   "metadata": {},
   "outputs": [
    {
     "data": {
      "text/html": [
       "<div>\n",
       "<style scoped>\n",
       "    .dataframe tbody tr th:only-of-type {\n",
       "        vertical-align: middle;\n",
       "    }\n",
       "\n",
       "    .dataframe tbody tr th {\n",
       "        vertical-align: top;\n",
       "    }\n",
       "\n",
       "    .dataframe thead th {\n",
       "        text-align: right;\n",
       "    }\n",
       "</style>\n",
       "<table border=\"1\" class=\"dataframe\">\n",
       "  <thead>\n",
       "    <tr style=\"text-align: right;\">\n",
       "      <th></th>\n",
       "      <th>CH4</th>\n",
       "    </tr>\n",
       "    <tr>\n",
       "      <th>year</th>\n",
       "      <th></th>\n",
       "    </tr>\n",
       "  </thead>\n",
       "  <tbody>\n",
       "    <tr>\n",
       "      <th>1650</th>\n",
       "      <td>523</td>\n",
       "    </tr>\n",
       "    <tr>\n",
       "      <th>1650</th>\n",
       "      <td>462</td>\n",
       "    </tr>\n",
       "    <tr>\n",
       "      <th>1650</th>\n",
       "      <td>490</td>\n",
       "    </tr>\n",
       "    <tr>\n",
       "      <th>1649</th>\n",
       "      <td>456</td>\n",
       "    </tr>\n",
       "    <tr>\n",
       "      <th>1649</th>\n",
       "      <td>456</td>\n",
       "    </tr>\n",
       "    <tr>\n",
       "      <th>...</th>\n",
       "      <td>...</td>\n",
       "    </tr>\n",
       "    <tr>\n",
       "      <th>1505</th>\n",
       "      <td>407</td>\n",
       "    </tr>\n",
       "    <tr>\n",
       "      <th>1504</th>\n",
       "      <td>402</td>\n",
       "    </tr>\n",
       "    <tr>\n",
       "      <th>1503</th>\n",
       "      <td>440</td>\n",
       "    </tr>\n",
       "    <tr>\n",
       "      <th>1501</th>\n",
       "      <td>441</td>\n",
       "    </tr>\n",
       "    <tr>\n",
       "      <th>1501</th>\n",
       "      <td>441</td>\n",
       "    </tr>\n",
       "  </tbody>\n",
       "</table>\n",
       "<p>418 rows × 1 columns</p>\n",
       "</div>"
      ],
      "text/plain": [
       "      CH4\n",
       "year     \n",
       "1650  523\n",
       "1650  462\n",
       "1650  490\n",
       "1649  456\n",
       "1649  456\n",
       "...   ...\n",
       "1505  407\n",
       "1504  402\n",
       "1503  440\n",
       "1501  441\n",
       "1501  441\n",
       "\n",
       "[418 rows x 1 columns]"
      ]
     },
     "execution_count": 15,
     "metadata": {},
     "output_type": "execute_result"
    }
   ],
   "source": [
    "antarctic_methane_df"
   ]
  },
  {
   "cell_type": "markdown",
   "metadata": {},
   "source": [
    "### **Irish Weather Datasets**\n",
    "\n",
    "Importing, cleaning, and transforming the Irish temperature weather data."
   ]
  },
  {
   "cell_type": "code",
   "execution_count": 16,
   "metadata": {},
   "outputs": [],
   "source": [
    "irish_weather_df = pd.read_csv(\n",
    "    \"./data/irish/mly2275.csv\",\n",
    "    sep=\",\",\n",
    "    skiprows=19,\n",
    "    usecols=[\"year\", \"month\", \"meant\", \"rain\"],\n",
    ")\n",
    "\n",
    "# Transforming the Irish Weather DataFrame\n",
    "irish_weather_df[\"year-month\"] = irish_weather_df[[\"year\", \"month\"]].apply(\n",
    "    lambda row: \"-\".join(row.values.astype(str)), axis=1\n",
    ")"
   ]
  },
  {
   "cell_type": "code",
   "execution_count": 17,
   "metadata": {},
   "outputs": [
    {
     "data": {
      "text/html": [
       "<div>\n",
       "<style scoped>\n",
       "    .dataframe tbody tr th:only-of-type {\n",
       "        vertical-align: middle;\n",
       "    }\n",
       "\n",
       "    .dataframe tbody tr th {\n",
       "        vertical-align: top;\n",
       "    }\n",
       "\n",
       "    .dataframe thead th {\n",
       "        text-align: right;\n",
       "    }\n",
       "</style>\n",
       "<table border=\"1\" class=\"dataframe\">\n",
       "  <thead>\n",
       "    <tr style=\"text-align: right;\">\n",
       "      <th></th>\n",
       "      <th>year</th>\n",
       "      <th>month</th>\n",
       "      <th>meant</th>\n",
       "      <th>rain</th>\n",
       "      <th>year-month</th>\n",
       "    </tr>\n",
       "  </thead>\n",
       "  <tbody>\n",
       "    <tr>\n",
       "      <th>0</th>\n",
       "      <td>1939</td>\n",
       "      <td>10</td>\n",
       "      <td>10.0</td>\n",
       "      <td>105.5</td>\n",
       "      <td>1939-10</td>\n",
       "    </tr>\n",
       "    <tr>\n",
       "      <th>1</th>\n",
       "      <td>1939</td>\n",
       "      <td>11</td>\n",
       "      <td>10.3</td>\n",
       "      <td>251.9</td>\n",
       "      <td>1939-11</td>\n",
       "    </tr>\n",
       "    <tr>\n",
       "      <th>2</th>\n",
       "      <td>1939</td>\n",
       "      <td>12</td>\n",
       "      <td>6.0</td>\n",
       "      <td>116.9</td>\n",
       "      <td>1939-12</td>\n",
       "    </tr>\n",
       "    <tr>\n",
       "      <th>3</th>\n",
       "      <td>1940</td>\n",
       "      <td>1</td>\n",
       "      <td>5.8</td>\n",
       "      <td>163.8</td>\n",
       "      <td>1940-1</td>\n",
       "    </tr>\n",
       "    <tr>\n",
       "      <th>4</th>\n",
       "      <td>1940</td>\n",
       "      <td>2</td>\n",
       "      <td>7.9</td>\n",
       "      <td>179.6</td>\n",
       "      <td>1940-2</td>\n",
       "    </tr>\n",
       "    <tr>\n",
       "      <th>...</th>\n",
       "      <td>...</td>\n",
       "      <td>...</td>\n",
       "      <td>...</td>\n",
       "      <td>...</td>\n",
       "      <td>...</td>\n",
       "    </tr>\n",
       "    <tr>\n",
       "      <th>1005</th>\n",
       "      <td>2023</td>\n",
       "      <td>7</td>\n",
       "      <td>15.3</td>\n",
       "      <td>170.3</td>\n",
       "      <td>2023-7</td>\n",
       "    </tr>\n",
       "    <tr>\n",
       "      <th>1006</th>\n",
       "      <td>2023</td>\n",
       "      <td>8</td>\n",
       "      <td>15.9</td>\n",
       "      <td>177.1</td>\n",
       "      <td>2023-8</td>\n",
       "    </tr>\n",
       "    <tr>\n",
       "      <th>1007</th>\n",
       "      <td>2023</td>\n",
       "      <td>9</td>\n",
       "      <td>15.6</td>\n",
       "      <td>189.3</td>\n",
       "      <td>2023-9</td>\n",
       "    </tr>\n",
       "    <tr>\n",
       "      <th>1008</th>\n",
       "      <td>2023</td>\n",
       "      <td>10</td>\n",
       "      <td>12.8</td>\n",
       "      <td>253.1</td>\n",
       "      <td>2023-10</td>\n",
       "    </tr>\n",
       "    <tr>\n",
       "      <th>1009</th>\n",
       "      <td>2023</td>\n",
       "      <td>11</td>\n",
       "      <td>9.8</td>\n",
       "      <td>165.0</td>\n",
       "      <td>2023-11</td>\n",
       "    </tr>\n",
       "  </tbody>\n",
       "</table>\n",
       "<p>1010 rows × 5 columns</p>\n",
       "</div>"
      ],
      "text/plain": [
       "      year  month  meant   rain year-month\n",
       "0     1939     10   10.0  105.5    1939-10\n",
       "1     1939     11   10.3  251.9    1939-11\n",
       "2     1939     12    6.0  116.9    1939-12\n",
       "3     1940      1    5.8  163.8     1940-1\n",
       "4     1940      2    7.9  179.6     1940-2\n",
       "...    ...    ...    ...    ...        ...\n",
       "1005  2023      7   15.3  170.3     2023-7\n",
       "1006  2023      8   15.9  177.1     2023-8\n",
       "1007  2023      9   15.6  189.3     2023-9\n",
       "1008  2023     10   12.8  253.1    2023-10\n",
       "1009  2023     11    9.8  165.0    2023-11\n",
       "\n",
       "[1010 rows x 5 columns]"
      ]
     },
     "execution_count": 17,
     "metadata": {},
     "output_type": "execute_result"
    }
   ],
   "source": [
    "irish_weather_df"
   ]
  },
  {
   "cell_type": "code",
   "execution_count": null,
   "metadata": {},
   "outputs": [],
   "source": []
  },
  {
   "cell_type": "code",
   "execution_count": 18,
   "metadata": {},
   "outputs": [],
   "source": [
    "# Reading in the csv file\n",
    "irish_temp_df1 = pd.read_csv(\n",
    "    \"./data/irish/Valentia-Observatory_second-order-station_1883-1909.csv\",\n",
    "    sep=\",\",\n",
    "    encoding=\"ISO-8859-1\",\n",
    ")\n",
    "\n",
    "# Transforming the dataset\n",
    "irish_temp_df1.drop([\"Max (°F)\", \"Min (°F)\"], axis=1, inplace=True)\n",
    "irish_temp_df1[\"meant\"] = irish_temp_df1[[\"Max (°C)\", \"Min (°C)\"]].mean(axis=1)\n",
    "irish_temp_df1.drop([\"Max (°C)\", \"Min (°C)\"], axis=1, inplace=True)\n",
    "irish_temp_df1.rename(\n",
    "    columns={\"Year\": \"year\", \"Month\": \"month\", \"Day \": \"day\"}, inplace=True\n",
    ")\n",
    "\n",
    "irish_temp_df1[\"date\"] = pd.to_datetime(\n",
    "    irish_temp_df1[[\"year\", \"month\", \"day\"]], errors=\"coerce\"\n",
    ")\n",
    "irish_temp_df1 = irish_temp_df1.drop([\"year\", \"month\", \"day\"], axis=1)\n",
    "irish_temp_df1.set_index(\"date\", inplace=True)\n",
    "\n",
    "# Downsample to yearly\n",
    "resample = irish_temp_df1.resample(\"Y\")\n",
    "irish_temp_df1 = resample.mean()\n",
    "\n",
    "# Reading in the csv file\n",
    "irish_temp_df2 = pd.read_csv(\n",
    "    \"./data/irish/Valentia-Observatory-telegraphic-reporting-station_1850-1920.csv\",\n",
    "    sep=\",\",\n",
    "    encoding=\"ISO-8859-1\",\n",
    ")\n",
    "\n",
    "# Transforming the dataset\n",
    "irish_temp_df2.drop([\"Max (°F)\", \"Min (°F)\"], axis=1, inplace=True)\n",
    "irish_temp_df2[\"meant\"] = irish_temp_df2[[\"Max (°C)\", \"Min (°C)\"]].mean(axis=1)\n",
    "irish_temp_df2.drop([\"Max (°C)\", \"Min (°C)\"], axis=1, inplace=True)\n",
    "irish_temp_df2.rename(\n",
    "    columns={\"Year\": \"year\", \"Month\": \"month\", \"Day\": \"day\"}, inplace=True\n",
    ")\n",
    "irish_temp_df2[\"date\"] = pd.to_datetime(\n",
    "    irish_temp_df2[[\"year\", \"month\", \"day\"]], errors=\"coerce\"\n",
    ")\n",
    "irish_temp_df2 = irish_temp_df2.drop([\"year\", \"month\", \"day\"], axis=1)\n",
    "irish_temp_df2.set_index(\"date\", inplace=True)\n",
    "\n",
    "# Downsample to yearly\n",
    "resample = irish_temp_df2.resample(\"Y\")\n",
    "irish_temp_df2 = resample.mean()\n",
    "\n",
    "# Reading in the csv file\n",
    "irish_temp_df3 = pd.read_csv(\n",
    "    \"./data/irish/Valentia-Observatory-telegraphic-reporting-station_1921-1943.csv\",\n",
    "    sep=\",\",\n",
    "    encoding=\"ISO-8859-1\",\n",
    ")\n",
    "\n",
    "# Transforming the dataset\n",
    "irish_temp_df3.drop(\n",
    "    [\"Max at 7h (°F)\", \"Min at 7h (°F)\", \"Max at 18h (°F)\", \"Min at 18h (°F)\"],\n",
    "    axis=1,\n",
    "    inplace=True,\n",
    ")\n",
    "irish_temp_df3[\"meant\"] = irish_temp_df3[\n",
    "    [\"Max at 7h (°C)\", \"Min at 7h (°C)\", \"Max at 18h (°C)\", \"Min at 18h (°C)\"]\n",
    "].mean(axis=1)\n",
    "irish_temp_df3.drop(\n",
    "    [\"Max at 7h (°C)\", \"Min at 7h (°C)\", \"Max at 18h (°C)\", \"Min at 18h (°C)\"],\n",
    "    axis=1,\n",
    "    inplace=True,\n",
    ")\n",
    "irish_temp_df3.rename(\n",
    "    columns={\"Year\": \"year\", \"Month\": \"month\", \"Daily\": \"day\"}, inplace=True\n",
    ")\n",
    "irish_temp_df3[\"date\"] = pd.to_datetime(\n",
    "    irish_temp_df3[[\"year\", \"month\", \"day\"]], errors=\"coerce\"\n",
    ")\n",
    "irish_temp_df3 = irish_temp_df3.drop([\"year\", \"month\", \"day\"], axis=1)\n",
    "irish_temp_df3.set_index(\"date\", inplace=True)\n",
    "\n",
    "# Downsample to yearly\n",
    "resample = irish_temp_df3.resample(\"Y\")\n",
    "irish_temp_df3 = resample.mean()\n",
    "\n",
    "# Combining the datasets\n",
    "irish_temp_df = pd.concat([irish_temp_df1, irish_temp_df2, irish_temp_df3])"
   ]
  },
  {
   "cell_type": "code",
   "execution_count": 19,
   "metadata": {},
   "outputs": [
    {
     "data": {
      "text/html": [
       "<div>\n",
       "<style scoped>\n",
       "    .dataframe tbody tr th:only-of-type {\n",
       "        vertical-align: middle;\n",
       "    }\n",
       "\n",
       "    .dataframe tbody tr th {\n",
       "        vertical-align: top;\n",
       "    }\n",
       "\n",
       "    .dataframe thead th {\n",
       "        text-align: right;\n",
       "    }\n",
       "</style>\n",
       "<table border=\"1\" class=\"dataframe\">\n",
       "  <thead>\n",
       "    <tr style=\"text-align: right;\">\n",
       "      <th></th>\n",
       "      <th>meant</th>\n",
       "    </tr>\n",
       "    <tr>\n",
       "      <th>date</th>\n",
       "      <th></th>\n",
       "    </tr>\n",
       "  </thead>\n",
       "  <tbody>\n",
       "    <tr>\n",
       "      <th>1883-12-31</th>\n",
       "      <td>10.238219</td>\n",
       "    </tr>\n",
       "    <tr>\n",
       "      <th>1884-12-31</th>\n",
       "      <td>10.658197</td>\n",
       "    </tr>\n",
       "    <tr>\n",
       "      <th>1885-12-31</th>\n",
       "      <td>10.090822</td>\n",
       "    </tr>\n",
       "    <tr>\n",
       "      <th>1886-12-31</th>\n",
       "      <td>10.127534</td>\n",
       "    </tr>\n",
       "    <tr>\n",
       "      <th>1887-12-31</th>\n",
       "      <td>10.343151</td>\n",
       "    </tr>\n",
       "    <tr>\n",
       "      <th>...</th>\n",
       "      <td>...</td>\n",
       "    </tr>\n",
       "    <tr>\n",
       "      <th>1939-12-31</th>\n",
       "      <td>10.717603</td>\n",
       "    </tr>\n",
       "    <tr>\n",
       "      <th>1940-12-31</th>\n",
       "      <td>10.874454</td>\n",
       "    </tr>\n",
       "    <tr>\n",
       "      <th>1941-12-31</th>\n",
       "      <td>10.360137</td>\n",
       "    </tr>\n",
       "    <tr>\n",
       "      <th>1942-12-31</th>\n",
       "      <td>10.547466</td>\n",
       "    </tr>\n",
       "    <tr>\n",
       "      <th>1943-12-31</th>\n",
       "      <td>10.984863</td>\n",
       "    </tr>\n",
       "  </tbody>\n",
       "</table>\n",
       "<p>121 rows × 1 columns</p>\n",
       "</div>"
      ],
      "text/plain": [
       "                meant\n",
       "date                 \n",
       "1883-12-31  10.238219\n",
       "1884-12-31  10.658197\n",
       "1885-12-31  10.090822\n",
       "1886-12-31  10.127534\n",
       "1887-12-31  10.343151\n",
       "...               ...\n",
       "1939-12-31  10.717603\n",
       "1940-12-31  10.874454\n",
       "1941-12-31  10.360137\n",
       "1942-12-31  10.547466\n",
       "1943-12-31  10.984863\n",
       "\n",
       "[121 rows x 1 columns]"
      ]
     },
     "execution_count": 19,
     "metadata": {},
     "output_type": "execute_result"
    }
   ],
   "source": [
    "irish_temp_df"
   ]
  },
  {
   "cell_type": "markdown",
   "metadata": {},
   "source": [
    "Text Analysis\n",
    "\n",
    "https://guides.library.upenn.edu/penntdm/python/import_files#:~:text=Importing%20Files%20(Web%20Scraping)&text=The%20get()%20function%20in,it%20in%20a%20Python%20object.\n",
    "\n",
    "Parsing a text file into a pandas DataFrame\n",
    "\n",
    "https://codereview.stackexchange.com/questions/257729/parsing-a-text-file-into-a-pandas-\n",
    "\n",
    "Pandas Timestamp Limitations\n",
    "\n",
    "https://calmcode.io/til/pandas-timerange.html#:~:text=Since%20pandas%20represents%20timestamps%20in,limited%20to%20approximately%20584%20years.\n",
    "\n",
    "How To Resample and Interpolate Your Time Series Data With Python\n",
    "\n",
    "https://machinelearningmastery.com/resample-interpolate-time-series-data-python/\n",
    "\n",
    "pandas.read_excel\n",
    "\n",
    "https://pandas.pydata.org/docs/reference/api/pandas.read_excel.html\n",
    "\n",
    "\n",
    "Compilation of improved CH4 data derived from the European Project for Ice Coring in Antarctica (EPICA) Dome C\n",
    "\n",
    "https://doi.pangaea.de/10.1594/PANGAEA.914908\n",
    "\n",
    "\n",
    "An optimized multi-proxy, multi-site Antarctic ice and gas orbital chronology (AICC2012): 120–800 ka\n",
    "\n",
    "https://cp.copernicus.org/articles/9/1715/2013/\n",
    "\n",
    "\n",
    "How to concatenate multiple column values into a single column in Pandas dataframe\n",
    "\n",
    "https://stackoverflow.com/questions/39291499/how-to-concatenate-multiple-column-values-into-a-single-column-in-pandas-datafra"
   ]
  },
  {
   "cell_type": "markdown",
   "metadata": {},
   "source": [
    "***\n",
    "# End"
   ]
  }
 ],
 "metadata": {
  "kernelspec": {
   "display_name": "Python 3 (ipykernel)",
   "language": "python",
   "name": "python3"
  },
  "language_info": {
   "codemirror_mode": {
    "name": "ipython",
    "version": 3
   },
   "file_extension": ".py",
   "mimetype": "text/x-python",
   "name": "python",
   "nbconvert_exporter": "python",
   "pygments_lexer": "ipython3",
   "version": "3.9.5"
  }
 },
 "nbformat": 4,
 "nbformat_minor": 4
}
