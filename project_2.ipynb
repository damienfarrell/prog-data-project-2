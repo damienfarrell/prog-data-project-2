{
 "cells": [
  {
   "cell_type": "markdown",
   "metadata": {},
   "source": [
    "# **Programming for Data Analysis**\n",
    "---\n",
    "\n",
    "**Author: Damien Farrell**\n",
    "\n",
    "---"
   ]
  },
  {
   "cell_type": "markdown",
   "metadata": {},
   "source": [
    "## **Project 2:**\n",
    "## **An Analysis of Paleo-Present Climate Data**"
   ]
  },
  {
   "cell_type": "code",
   "execution_count": 1,
   "metadata": {},
   "outputs": [
    {
     "data": {
      "text/html": [
       "\n",
       "                <script type=\"application/javascript\" id=\"jupyter_black\">\n",
       "                (function() {\n",
       "                    if (window.IPython === undefined) {\n",
       "                        return\n",
       "                    }\n",
       "                    var msg = \"WARNING: it looks like you might have loaded \" +\n",
       "                        \"jupyter_black in a non-lab notebook with \" +\n",
       "                        \"`is_lab=True`. Please double check, and if \" +\n",
       "                        \"loading with `%load_ext` please review the README!\"\n",
       "                    console.log(msg)\n",
       "                    alert(msg)\n",
       "                })()\n",
       "                </script>\n",
       "                "
      ],
      "text/plain": [
       "<IPython.core.display.HTML object>"
      ]
     },
     "metadata": {},
     "output_type": "display_data"
    }
   ],
   "source": [
    "import pandas as pd\n",
    "import numpy as np\n",
    "import matplotlib.pyplot as plt\n",
    "import seaborn as sns\n",
    "import re\n",
    "import requests\n",
    "\n",
    "import jupyter_black\n",
    "\n",
    "jupyter_black.load()\n",
    "sns.set_theme()"
   ]
  },
  {
   "cell_type": "markdown",
   "metadata": {},
   "source": [
    "Extract Temperature Data from NOAA and Convert into a DataFrame"
   ]
  },
  {
   "cell_type": "code",
   "execution_count": 3,
   "metadata": {},
   "outputs": [],
   "source": [
    "url = \"https://www.ncei.noaa.gov/pub/data/paleo/icecore/antarctica/epica_domec/edc3deuttemp2007.txt\"\n",
    "response = requests.get(url)  # Generate response object\n",
    "text = response.text  # Return the HTML of webpage as string\n",
    "\n",
    "data = text\n",
    "\n",
    "# The pattern to find the start of the table\n",
    "pattern = re.compile(r\"Bag\\s+ztop\\s+Age\\s+Deuterium\\s+Temperature\", re.IGNORECASE)\n",
    "\n",
    "# Extract the data starting from the match\n",
    "start_index = match.start()\n",
    "table_data = data[start_index:]\n",
    "\n",
    "# Convert the table_data to a list of lines\n",
    "table_lines = table_data.strip().split(\"\\n\")\n",
    "\n",
    "# Extract column names and data\n",
    "columns = table_lines[0].split()\n",
    "rows = [line.split() for line in table_lines[1:]]\n",
    "\n",
    "# Create a DataFrame\n",
    "df = pd.DataFrame(rows, columns=columns)\n",
    "numeric_columns = [\"Bag\", \"ztop\", \"Age\", \"Deuterium\", \"Temperature\"]\n",
    "df[numeric_columns] = df[numeric_columns].apply(pd.to_numeric, errors=\"coerce\")"
   ]
  },
  {
   "cell_type": "code",
   "execution_count": 11,
   "metadata": {},
   "outputs": [
    {
     "data": {
      "text/html": [
       "<div>\n",
       "<style scoped>\n",
       "    .dataframe tbody tr th:only-of-type {\n",
       "        vertical-align: middle;\n",
       "    }\n",
       "\n",
       "    .dataframe tbody tr th {\n",
       "        vertical-align: top;\n",
       "    }\n",
       "\n",
       "    .dataframe thead th {\n",
       "        text-align: right;\n",
       "    }\n",
       "</style>\n",
       "<table border=\"1\" class=\"dataframe\">\n",
       "  <thead>\n",
       "    <tr style=\"text-align: right;\">\n",
       "      <th></th>\n",
       "      <th>Bag</th>\n",
       "      <th>ztop</th>\n",
       "      <th>Age</th>\n",
       "      <th>Deuterium</th>\n",
       "      <th>Temperature</th>\n",
       "    </tr>\n",
       "  </thead>\n",
       "  <tbody>\n",
       "    <tr>\n",
       "      <th>0</th>\n",
       "      <td>1</td>\n",
       "      <td>0.00</td>\n",
       "      <td>-50.00000</td>\n",
       "      <td>NaN</td>\n",
       "      <td>NaN</td>\n",
       "    </tr>\n",
       "    <tr>\n",
       "      <th>1</th>\n",
       "      <td>2</td>\n",
       "      <td>0.55</td>\n",
       "      <td>-43.54769</td>\n",
       "      <td>NaN</td>\n",
       "      <td>NaN</td>\n",
       "    </tr>\n",
       "    <tr>\n",
       "      <th>2</th>\n",
       "      <td>3</td>\n",
       "      <td>1.10</td>\n",
       "      <td>-37.41829</td>\n",
       "      <td>NaN</td>\n",
       "      <td>NaN</td>\n",
       "    </tr>\n",
       "    <tr>\n",
       "      <th>3</th>\n",
       "      <td>4</td>\n",
       "      <td>1.65</td>\n",
       "      <td>-31.61153</td>\n",
       "      <td>NaN</td>\n",
       "      <td>NaN</td>\n",
       "    </tr>\n",
       "    <tr>\n",
       "      <th>4</th>\n",
       "      <td>5</td>\n",
       "      <td>2.20</td>\n",
       "      <td>-24.51395</td>\n",
       "      <td>NaN</td>\n",
       "      <td>NaN</td>\n",
       "    </tr>\n",
       "    <tr>\n",
       "      <th>...</th>\n",
       "      <td>...</td>\n",
       "      <td>...</td>\n",
       "      <td>...</td>\n",
       "      <td>...</td>\n",
       "      <td>...</td>\n",
       "    </tr>\n",
       "    <tr>\n",
       "      <th>5795</th>\n",
       "      <td>5796</td>\n",
       "      <td>3187.25</td>\n",
       "      <td>797408.00000</td>\n",
       "      <td>-440.20</td>\n",
       "      <td>-8.73</td>\n",
       "    </tr>\n",
       "    <tr>\n",
       "      <th>5796</th>\n",
       "      <td>5797</td>\n",
       "      <td>3187.80</td>\n",
       "      <td>798443.00000</td>\n",
       "      <td>-439.00</td>\n",
       "      <td>-8.54</td>\n",
       "    </tr>\n",
       "    <tr>\n",
       "      <th>5797</th>\n",
       "      <td>5798</td>\n",
       "      <td>3188.35</td>\n",
       "      <td>799501.00000</td>\n",
       "      <td>-441.10</td>\n",
       "      <td>-8.88</td>\n",
       "    </tr>\n",
       "    <tr>\n",
       "      <th>5798</th>\n",
       "      <td>5799</td>\n",
       "      <td>3188.90</td>\n",
       "      <td>800589.00000</td>\n",
       "      <td>-441.42</td>\n",
       "      <td>-8.92</td>\n",
       "    </tr>\n",
       "    <tr>\n",
       "      <th>5799</th>\n",
       "      <td>5800</td>\n",
       "      <td>3189.45</td>\n",
       "      <td>801662.00000</td>\n",
       "      <td>-440.90</td>\n",
       "      <td>-8.82</td>\n",
       "    </tr>\n",
       "  </tbody>\n",
       "</table>\n",
       "<p>5800 rows × 5 columns</p>\n",
       "</div>"
      ],
      "text/plain": [
       "       Bag     ztop           Age  Deuterium  Temperature\n",
       "0        1     0.00     -50.00000        NaN          NaN\n",
       "1        2     0.55     -43.54769        NaN          NaN\n",
       "2        3     1.10     -37.41829        NaN          NaN\n",
       "3        4     1.65     -31.61153        NaN          NaN\n",
       "4        5     2.20     -24.51395        NaN          NaN\n",
       "...    ...      ...           ...        ...          ...\n",
       "5795  5796  3187.25  797408.00000    -440.20        -8.73\n",
       "5796  5797  3187.80  798443.00000    -439.00        -8.54\n",
       "5797  5798  3188.35  799501.00000    -441.10        -8.88\n",
       "5798  5799  3188.90  800589.00000    -441.42        -8.92\n",
       "5799  5800  3189.45  801662.00000    -440.90        -8.82\n",
       "\n",
       "[5800 rows x 5 columns]"
      ]
     },
     "execution_count": 11,
     "metadata": {},
     "output_type": "execute_result"
    }
   ],
   "source": [
    "df"
   ]
  },
  {
   "cell_type": "markdown",
   "metadata": {},
   "source": [
    "Text Analysis\n",
    "\n",
    "https://guides.library.upenn.edu/penntdm/python/import_files#:~:text=Importing%20Files%20(Web%20Scraping)&text=The%20get()%20function%20in,it%20in%20a%20Python%20object."
   ]
  },
  {
   "cell_type": "markdown",
   "metadata": {},
   "source": [
    "***\n",
    "# End"
   ]
  }
 ],
 "metadata": {
  "kernelspec": {
   "display_name": "Python 3 (ipykernel)",
   "language": "python",
   "name": "python3"
  },
  "language_info": {
   "codemirror_mode": {
    "name": "ipython",
    "version": 3
   },
   "file_extension": ".py",
   "mimetype": "text/x-python",
   "name": "python",
   "nbconvert_exporter": "python",
   "pygments_lexer": "ipython3",
   "version": "3.9.5"
  }
 },
 "nbformat": 4,
 "nbformat_minor": 4
}
